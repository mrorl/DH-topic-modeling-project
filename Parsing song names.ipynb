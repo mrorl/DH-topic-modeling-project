{
 "cells": [
  {
   "cell_type": "code",
   "execution_count": 24,
   "metadata": {},
   "outputs": [],
   "source": [
    "import requests\n",
    "from bs4 import BeautifulSoup\n",
    "import csv"
   ]
  },
  {
   "cell_type": "code",
   "execution_count": 3,
   "metadata": {},
   "outputs": [],
   "source": [
    "url = 'https://music.yandex.ru/users/music-blog/playlists/1209' #page url"
   ]
  },
  {
   "cell_type": "code",
   "execution_count": 4,
   "metadata": {},
   "outputs": [],
   "source": [
    "def get_html(url, useragent = None, proxy = None):\n",
    "    r = requests.get(url, headers = useragent, proxies = proxy) #response\n",
    "    return r.text #returns HTML code (url)"
   ]
  },
  {
   "cell_type": "code",
   "execution_count": 9,
   "metadata": {},
   "outputs": [],
   "source": [
    "#gets song elements\n",
    "def get_page_data(html):\n",
    "    soup = BeautifulSoup(html,'lxml')\n",
    "    tracks = soup.find_all('div', class_='d-track typo-track d-track_selectable d-track_with-cover')\n",
    "    return tracks"
   ]
  },
  {
   "cell_type": "code",
   "execution_count": 16,
   "metadata": {},
   "outputs": [],
   "source": [
    "all_info = get_page_data(get_html(url))"
   ]
  },
  {
   "cell_type": "code",
   "execution_count": 30,
   "metadata": {},
   "outputs": [],
   "source": [
    "#searches for artist & song\n",
    "all_tracks = []\n",
    "for i in all_info:\n",
    "    html_content = str(i)\n",
    "    soup = BeautifulSoup(html_content,'lxml')\n",
    "    title = soup.find('div', class_ = 'd-track__name').find('a').text.strip()\n",
    "    artist = soup.find('div', class_ ='d-track__meta').find('span', attrs = {'class': 'd-track__artists'}).find('a').text\n",
    "    all_tracks.append({'Title':title,'Artist':artist})"
   ]
  },
  {
   "cell_type": "code",
   "execution_count": 31,
   "metadata": {},
   "outputs": [
    {
     "data": {
      "text/plain": [
       "[{'Title': 'Лунные ночи', 'Artist': 'Алёна Апина'},\n",
       " {'Title': 'Ветер с моря дул', 'Artist': 'Натали'},\n",
       " {'Title': 'Но только не говори мне', 'Artist': 'Наталья Ветлицкая'},\n",
       " {'Title': 'Тополиный пух', 'Artist': 'Иванушки International'},\n",
       " {'Title': 'Солнышко', 'Artist': 'Демо'}]"
      ]
     },
     "execution_count": 31,
     "metadata": {},
     "output_type": "execute_result"
    }
   ],
   "source": [
    "all_tracks[:5]"
   ]
  },
  {
   "cell_type": "code",
   "execution_count": 35,
   "metadata": {},
   "outputs": [],
   "source": [
    "#writes csv files\n",
    "def file_writer(all_tracks):\n",
    "    with open('songs1990.csv', 'w', encoding = 'UTF-8') as file:\n",
    "        a_pen = csv.writer(file)\n",
    "        a_pen.writerow(('Title', 'Artist'))\n",
    "        for track in all_tracks:\n",
    "            a_pen.writerow((track['Title'],track['Artist']))"
   ]
  },
  {
   "cell_type": "code",
   "execution_count": 37,
   "metadata": {},
   "outputs": [],
   "source": [
    "file_writer(all_tracks)"
   ]
  },
  {
   "cell_type": "code",
   "execution_count": 38,
   "metadata": {},
   "outputs": [],
   "source": [
    "import pandas as pd"
   ]
  },
  {
   "cell_type": "code",
   "execution_count": 39,
   "metadata": {},
   "outputs": [],
   "source": [
    "df = pd.read_csv('data_90.csv')"
   ]
  },
  {
   "cell_type": "code",
   "execution_count": 50,
   "metadata": {},
   "outputs": [
    {
     "data": {
      "text/plain": [
       "Филипп Киркоров           4\n",
       "Иванушки International    4\n",
       "Шура                      4\n",
       "Валерий Меладзе           4\n",
       "Татьяна Овсиенко          4\n",
       "Наташа Королёва           3\n",
       "Игорь Николаев            3\n",
       "Лариса Черникова          3\n",
       "Леонид Агутин             3\n",
       "Марина Хлебникова         3\n",
       "Гости из будущего         3\n",
       "Татьяна Буланова          3\n",
       "Андрей Губин              3\n",
       "Анжелика Варум            3\n",
       "Алёна Апина               3\n",
       "Мурат Насыров             2\n",
       "Дюна                      2\n",
       "Чай вдвоём                2\n",
       "Света                     2\n",
       "Дискотека Авария          2\n",
       "Алсу                      2\n",
       "Натали                    2\n",
       "Кристина Орбакайте        2\n",
       "Любовь Успенская          2\n",
       "Ирина Салтыкова           2\n",
       "140 ударов в минуту       2\n",
       "Лицей                     1\n",
       "Hi-Fi                     1\n",
       "Ласковый бык              1\n",
       "Владимир Кузьмин          1\n",
       "Унесённые ветром          1\n",
       "Отпетые мошенники         1\n",
       "Александр Иванов          1\n",
       "Алла Горбачёва            1\n",
       "Демо                      1\n",
       "Рок-острова               1\n",
       "Фристайл                  1\n",
       "Кабаре-дуэт «Академия»    1\n",
       "Наталья Ветлицкая         1\n",
       "Блестящие                 1\n",
       "Алла Пугачёва             1\n",
       "Name: Artist, dtype: int64"
      ]
     },
     "execution_count": 50,
     "metadata": {},
     "output_type": "execute_result"
    }
   ],
   "source": [
    "df.Artist.value_counts()"
   ]
  },
  {
   "cell_type": "code",
   "execution_count": null,
   "metadata": {},
   "outputs": [],
   "source": []
  }
 ],
 "metadata": {
  "kernelspec": {
   "display_name": "Python 3",
   "language": "python",
   "name": "python3"
  },
  "language_info": {
   "codemirror_mode": {
    "name": "ipython",
    "version": 3
   },
   "file_extension": ".py",
   "mimetype": "text/x-python",
   "name": "python",
   "nbconvert_exporter": "python",
   "pygments_lexer": "ipython3",
   "version": "3.9.0"
  }
 },
 "nbformat": 4,
 "nbformat_minor": 4
}
